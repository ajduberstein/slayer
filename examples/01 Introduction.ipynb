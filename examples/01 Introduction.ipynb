{
 "cells": [
  {
   "cell_type": "code",
   "execution_count": 20,
   "metadata": {},
   "outputs": [],
   "source": [
    "import slayer as sly\n",
    "import pandas as pd\n",
    "\n",
    "DATA_URL = 'https://raw.githubusercontent.com/uber-common/deck.gl-data/master/examples/icon/meteorites.json'\n",
    "meteorites = pd.read_json(DATA_URL)"
   ]
  },
  {
   "cell_type": "code",
   "execution_count": 27,
   "metadata": {},
   "outputs": [
    {
     "data": {
      "text/html": [
       "<!doctype html>\n",
       "<html>\n",
       "  <head>\n",
       "    <meta http-equiv=\"content-type\" content=\"text/html; charset=UTF-8\" />\n",
       "    <title>slayer.py</title>\n",
       "\n",
       "    <script src='https://unpkg.com/deck.gl@latest/deckgl.min.js'></script>\n",
       "    <script src='https://api.tiles.mapbox.com/mapbox-gl-js/v0.44.1/mapbox-gl.js'></script>\n",
       "    <link rel=\"stylesheet\" href=\"https://api.tiles.mapbox.com/mapbox-gl-js/v0.44.1/mapbox-gl.css\" />\n",
       "    <link rel=\"stylesheet\" href=\"https://maxcdn.bootstrapcdn.com/bootstrap/3.2.0/css/bootstrap-theme.min.css\" />\n",
       "    <link rel=\"stylesheet\" href=\"https://maxcdn.bootstrapcdn.com/font-awesome/4.6.3/css/font-awesome.min.css\" />\n",
       "\n",
       "    <style>\n",
       "      body {margin:0;padding:0;overflow:hidden;}\n",
       "    </style>\n",
       "  </head>\n",
       "  <body>\n",
       "    <div id=\"container\" style=\"width: 100vw; height: 100vh;background-color:black;\"></div>\n",
       "    <script>\n",
       "\n",
       "     var INITIAL_VIEWPORT_STATE = {\n",
       "       latitude: 0,\n",
       "       longitude: 0,\n",
       "       zoom: 10,\n",
       "       pitch: 0\n",
       "     };\n",
       "\n",
       "var layers = [\n",
       "  new ScatterplotLayer({\n",
       "\t\tupdateTriggers: {},\n",
       "\t\tgetPosition: function (x) { return x[\"%s\"] },\n",
       "\t\tgetRadius: function (x) { return x[\"radius\"] || 10.000000 },\n",
       "\t\tdata: [{\"lat\":1.1,\"lng\":0.2,\"radius\":100000},{\"lat\":2.1,\"lng\":1.2,\"radius\":100000},{\"lat\":3.1,\"lng\":2.2,\"radius\":100000},{\"lat\":4.1,\"lng\":3.2,\"radius\":100000},{\"lat\":5.1,\"lng\":4.2,\"radius\":100000},{\"lat\":6.1,\"lng\":5.2,\"radius\":100000},{\"lat\":7.1,\"lng\":6.2,\"radius\":100000},{\"lat\":8.1,\"lng\":7.2,\"radius\":100000},{\"lat\":9.1,\"lng\":8.2,\"radius\":100000},{\"lat\":10.1,\"lng\":9.2,\"radius\":100000},{\"lat\":11.1,\"lng\":10.2,\"radius\":100000},{\"lat\":12.1,\"lng\":11.2,\"radius\":100000},{\"lat\":13.1,\"lng\":12.2,\"radius\":100000},{\"lat\":14.1,\"lng\":13.2,\"radius\":100000},{\"lat\":15.1,\"lng\":14.2,\"radius\":100000},{\"lat\":16.1,\"lng\":15.2,\"radius\":100000},{\"lat\":17.1,\"lng\":16.2,\"radius\":100000},{\"lat\":18.1,\"lng\":17.2,\"radius\":100000},{\"lat\":19.1,\"lng\":18.2,\"radius\":100000},{\"lat\":20.1,\"lng\":19.2,\"radius\":100000},{\"lat\":21.1,\"lng\":20.2,\"radius\":100000},{\"lat\":22.1,\"lng\":21.2,\"radius\":100000},{\"lat\":23.1,\"lng\":22.2,\"radius\":100000},{\"lat\":24.1,\"lng\":23.2,\"radius\":100000},{\"lat\":25.1,\"lng\":24.2,\"radius\":100000},{\"lat\":26.1,\"lng\":25.2,\"radius\":100000},{\"lat\":27.1,\"lng\":26.2,\"radius\":100000},{\"lat\":28.1,\"lng\":27.2,\"radius\":100000},{\"lat\":29.1,\"lng\":28.2,\"radius\":100000},{\"lat\":30.1,\"lng\":29.2,\"radius\":100000},{\"lat\":31.1,\"lng\":30.2,\"radius\":100000},{\"lat\":32.1,\"lng\":31.2,\"radius\":100000},{\"lat\":33.1,\"lng\":32.2,\"radius\":100000},{\"lat\":34.1,\"lng\":33.2,\"radius\":100000},{\"lat\":35.1,\"lng\":34.2,\"radius\":100000},{\"lat\":36.1,\"lng\":35.2,\"radius\":100000},{\"lat\":37.1,\"lng\":36.2,\"radius\":100000},{\"lat\":38.1,\"lng\":37.2,\"radius\":100000},{\"lat\":39.1,\"lng\":38.2,\"radius\":100000},{\"lat\":40.1,\"lng\":39.2,\"radius\":100000},{\"lat\":41.1,\"lng\":40.2,\"radius\":100000},{\"lat\":42.1,\"lng\":41.2,\"radius\":100000},{\"lat\":43.1,\"lng\":42.2,\"radius\":100000},{\"lat\":44.1,\"lng\":43.2,\"radius\":100000},{\"lat\":45.1,\"lng\":44.2,\"radius\":100000},{\"lat\":46.1,\"lng\":45.2,\"radius\":100000},{\"lat\":47.1,\"lng\":46.2,\"radius\":100000},{\"lat\":48.1,\"lng\":47.2,\"radius\":100000},{\"lat\":49.1,\"lng\":48.2,\"radius\":100000},{\"lat\":50.1,\"lng\":49.2,\"radius\":100000},{\"lat\":51.1,\"lng\":50.2,\"radius\":100000},{\"lat\":52.1,\"lng\":51.2,\"radius\":100000},{\"lat\":53.1,\"lng\":52.2,\"radius\":100000},{\"lat\":54.1,\"lng\":53.2,\"radius\":100000},{\"lat\":55.1,\"lng\":54.2,\"radius\":100000},{\"lat\":56.1,\"lng\":55.2,\"radius\":100000},{\"lat\":57.1,\"lng\":56.2,\"radius\":100000},{\"lat\":58.1,\"lng\":57.2,\"radius\":100000},{\"lat\":59.1,\"lng\":58.2,\"radius\":100000},{\"lat\":60.1,\"lng\":59.2,\"radius\":100000},{\"lat\":61.1,\"lng\":60.2,\"radius\":100000},{\"lat\":62.1,\"lng\":61.2,\"radius\":100000},{\"lat\":63.1,\"lng\":62.2,\"radius\":100000},{\"lat\":64.1,\"lng\":63.2,\"radius\":100000},{\"lat\":65.1,\"lng\":64.2,\"radius\":100000},{\"lat\":66.1,\"lng\":65.2,\"radius\":100000},{\"lat\":67.1,\"lng\":66.2,\"radius\":100000},{\"lat\":68.1,\"lng\":67.2,\"radius\":100000},{\"lat\":69.1,\"lng\":68.2,\"radius\":100000},{\"lat\":70.1,\"lng\":69.2,\"radius\":100000},{\"lat\":71.1,\"lng\":70.2,\"radius\":100000},{\"lat\":72.1,\"lng\":71.2,\"radius\":100000},{\"lat\":73.1,\"lng\":72.2,\"radius\":100000},{\"lat\":74.1,\"lng\":73.2,\"radius\":100000},{\"lat\":75.1,\"lng\":74.2,\"radius\":100000},{\"lat\":76.1,\"lng\":75.2,\"radius\":100000},{\"lat\":77.1,\"lng\":76.2,\"radius\":100000},{\"lat\":78.1,\"lng\":77.2,\"radius\":100000},{\"lat\":79.1,\"lng\":78.2,\"radius\":100000},{\"lat\":80.1,\"lng\":79.2,\"radius\":100000},{\"lat\":81.1,\"lng\":80.2,\"radius\":100000},{\"lat\":82.1,\"lng\":81.2,\"radius\":100000},{\"lat\":83.1,\"lng\":82.2,\"radius\":100000},{\"lat\":84.1,\"lng\":83.2,\"radius\":100000},{\"lat\":85.1,\"lng\":84.2,\"radius\":100000},{\"lat\":86.1,\"lng\":85.2,\"radius\":100000},{\"lat\":87.1,\"lng\":86.2,\"radius\":100000},{\"lat\":88.1,\"lng\":87.2,\"radius\":100000},{\"lat\":89.1,\"lng\":88.2,\"radius\":100000},{\"lat\":90.1,\"lng\":89.2,\"radius\":100000},{\"lat\":91.1,\"lng\":90.2,\"radius\":100000},{\"lat\":92.1,\"lng\":91.2,\"radius\":100000},{\"lat\":93.1,\"lng\":92.2,\"radius\":100000},{\"lat\":94.1,\"lng\":93.2,\"radius\":100000},{\"lat\":95.1,\"lng\":94.2,\"radius\":100000},{\"lat\":96.1,\"lng\":95.2,\"radius\":100000},{\"lat\":97.1,\"lng\":96.2,\"radius\":100000},{\"lat\":98.1,\"lng\":97.2,\"radius\":100000},{\"lat\":99.1,\"lng\":98.2,\"radius\":100000},{\"lat\":100.1,\"lng\":99.2,\"radius\":100000}],\n",
       "\t\tgetColor: function (x) { return x[\"color\"] || [255, 127, 0] }})\n",
       "];\n",
       "\n",
       "var deckgl = new deck.DeckGL({\n",
       "  container: 'container',\n",
       "  mapboxApiAccessToken: 'None',\n",
       "  viewState: INITIAL_VIEWPORT_STATE,\n",
       "  controller: deck.MapController,\n",
       "  onViewportChange: onViewportChange,\n",
       "  layers: layers\n",
       "});\n",
       "\n",
       "function onViewportChange(viewport) {\n",
       "  deckgl.setProps({viewState: viewport});\n",
       "}\n",
       "    </script>\n",
       "  </body>\n",
       "</html>"
      ],
      "text/plain": [
       "<IPython.core.display.HTML object>"
      ]
     },
     "execution_count": 27,
     "metadata": {},
     "output_type": "execute_result"
    }
   ],
   "source": [
    "s = sly.Slayer(sly.Viewport(0, 0, zoom=10)) + sly.Scatterplot(data, position_field='coordinates')\n",
    "from IPython.display import HTML\n",
    "HTML(s.to_html())\n",
    "# https://stackoverflow.com/questions/30367591/how-to-add-external-javascript-file-in-ipython-notebook"
   ]
  }
 ],
 "metadata": {
  "kernelspec": {
   "display_name": "Python 2",
   "language": "python",
   "name": "python2"
  },
  "language_info": {
   "codemirror_mode": {
    "name": "ipython",
    "version": 2
   },
   "file_extension": ".py",
   "mimetype": "text/x-python",
   "name": "python",
   "nbconvert_exporter": "python",
   "pygments_lexer": "ipython2",
   "version": "2.7.15"
  }
 },
 "nbformat": 4,
 "nbformat_minor": 2
}
