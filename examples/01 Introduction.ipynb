{
 "cells": [
  {
   "cell_type": "code",
   "execution_count": 1,
   "metadata": {},
   "outputs": [],
   "source": [
    "import slayer as sly\n",
    "import pandas as pd\n",
    "\n",
    "DATA_URL = 'https://raw.githubusercontent.com/uber-common/deck.gl-data/master/examples/icon/meteorites.json'\n",
    "meteorites = pd.read_json(DATA_URL)"
   ]
  },
  {
   "cell_type": "code",
   "execution_count": 2,
   "metadata": {},
   "outputs": [],
   "source": [
    "s = sly.Slayer(sly.Viewport(0, 0, zoom=1)) + sly.Scatterplot(meteorites, position='coordinates', radius=100000)"
   ]
  },
  {
   "cell_type": "code",
   "execution_count": 3,
   "metadata": {},
   "outputs": [
    {
     "data": {
      "text/html": [
       "\n",
       "        <iframe\n",
       "            width=\"500\"\n",
       "            height=\"500\"\n",
       "            src=\"meteorite_scatter.html\"\n",
       "            frameborder=\"0\"\n",
       "            allowfullscreen\n",
       "        ></iframe>\n",
       "        "
      ],
      "text/plain": [
       "<IPython.lib.display.IFrame at 0x11887d790>"
      ]
     },
     "execution_count": 3,
     "metadata": {},
     "output_type": "execute_result"
    }
   ],
   "source": [
    "s.to_html(filename='meteorite_scatter.html', interactive=True)"
   ]
  },
  {
   "cell_type": "code",
   "execution_count": 5,
   "metadata": {},
   "outputs": [
    {
     "data": {
      "text/html": [
       "<div>\n",
       "<style scoped>\n",
       "    .dataframe tbody tr th:only-of-type {\n",
       "        vertical-align: middle;\n",
       "    }\n",
       "\n",
       "    .dataframe tbody tr th {\n",
       "        vertical-align: top;\n",
       "    }\n",
       "\n",
       "    .dataframe thead th {\n",
       "        text-align: right;\n",
       "    }\n",
       "</style>\n",
       "<table border=\"1\" class=\"dataframe\">\n",
       "  <thead>\n",
       "    <tr style=\"text-align: right;\">\n",
       "      <th></th>\n",
       "      <th>start_date</th>\n",
       "      <th>business_name</th>\n",
       "      <th>type</th>\n",
       "      <th>lat</th>\n",
       "      <th>lng</th>\n",
       "      <th>closed</th>\n",
       "      <th>neighborhood</th>\n",
       "      <th>age_in_years</th>\n",
       "    </tr>\n",
       "  </thead>\n",
       "  <tbody>\n",
       "    <tr>\n",
       "      <th>0</th>\n",
       "      <td>2013</td>\n",
       "      <td>Pressed Juicery</td>\n",
       "      <td>NaN</td>\n",
       "      <td>37.768885</td>\n",
       "      <td>-122.390196</td>\n",
       "      <td>1</td>\n",
       "      <td>Mission Bay</td>\n",
       "      <td>NaN</td>\n",
       "    </tr>\n",
       "    <tr>\n",
       "      <th>1</th>\n",
       "      <td>2013</td>\n",
       "      <td>Pressed Juicery</td>\n",
       "      <td>NaN</td>\n",
       "      <td>37.784904</td>\n",
       "      <td>-122.406929</td>\n",
       "      <td>1</td>\n",
       "      <td>Downtown</td>\n",
       "      <td>NaN</td>\n",
       "    </tr>\n",
       "    <tr>\n",
       "      <th>2</th>\n",
       "      <td>2015</td>\n",
       "      <td>Zaalouk Market &amp; Deli Grocery</td>\n",
       "      <td>NaN</td>\n",
       "      <td>37.787740</td>\n",
       "      <td>-122.420251</td>\n",
       "      <td>0</td>\n",
       "      <td>Van Ness - Civic Center</td>\n",
       "      <td>3.0</td>\n",
       "    </tr>\n",
       "    <tr>\n",
       "      <th>3</th>\n",
       "      <td>1996</td>\n",
       "      <td>1-11 Lilac St Apts</td>\n",
       "      <td>NaN</td>\n",
       "      <td>37.751929</td>\n",
       "      <td>-122.417839</td>\n",
       "      <td>0</td>\n",
       "      <td>Mission</td>\n",
       "      <td>22.0</td>\n",
       "    </tr>\n",
       "    <tr>\n",
       "      <th>4</th>\n",
       "      <td>1997</td>\n",
       "      <td>Italian House</td>\n",
       "      <td>NaN</td>\n",
       "      <td>37.799160</td>\n",
       "      <td>-122.408931</td>\n",
       "      <td>0</td>\n",
       "      <td>Telegraph Hill</td>\n",
       "      <td>21.0</td>\n",
       "    </tr>\n",
       "  </tbody>\n",
       "</table>\n",
       "</div>"
      ],
      "text/plain": [
       "   start_date                  business_name type        lat         lng  \\\n",
       "0        2013                Pressed Juicery  NaN  37.768885 -122.390196   \n",
       "1        2013                Pressed Juicery  NaN  37.784904 -122.406929   \n",
       "2        2015  Zaalouk Market & Deli Grocery  NaN  37.787740 -122.420251   \n",
       "3        1996             1-11 Lilac St Apts  NaN  37.751929 -122.417839   \n",
       "4        1997                  Italian House  NaN  37.799160 -122.408931   \n",
       "\n",
       "   closed             neighborhood  age_in_years  \n",
       "0       1              Mission Bay           NaN  \n",
       "1       1                 Downtown           NaN  \n",
       "2       0  Van Ness - Civic Center           3.0  \n",
       "3       0                  Mission          22.0  \n",
       "4       0           Telegraph Hill          21.0  "
      ]
     },
     "execution_count": 5,
     "metadata": {},
     "output_type": "execute_result"
    }
   ],
   "source": [
    "DATA_URL = 'https://raw.githubusercontent.com/ajduberstein/sf_growth/master/public/data/business.csv'\n",
    "businesses = pd.read_csv(DATA_URL)\n",
    "businesses.head()"
   ]
  },
  {
   "cell_type": "code",
   "execution_count": 9,
   "metadata": {},
   "outputs": [
    {
     "data": {
      "text/html": [
       "\n",
       "        <iframe\n",
       "            width=\"500\"\n",
       "            height=\"500\"\n",
       "            src=\"business_scatter.html\"\n",
       "            frameborder=\"0\"\n",
       "            allowfullscreen\n",
       "        ></iframe>\n",
       "        "
      ],
      "text/plain": [
       "<IPython.lib.display.IFrame at 0x11e598d90>"
      ]
     },
     "execution_count": 9,
     "metadata": {},
     "output_type": "execute_result"
    }
   ],
   "source": [
    "s = sly.Slayer(sly.Viewport(longitude=-122.43, latitude=37.76, zoom=11)) +\\\n",
    "    sly.Scatterplot(businesses, position=['lng', 'lat'], radius=50, time_field='start_date')\n",
    "s.to_html(filename='business_scatter.html', interactive=True)"
   ]
  },
  {
   "cell_type": "code",
   "execution_count": 7,
   "metadata": {},
   "outputs": [
    {
     "data": {
      "text/plain": [
       "<slayer.models.slayer.Slayer at 0x10bf1c350>"
      ]
     },
     "execution_count": 7,
     "metadata": {},
     "output_type": "execute_result"
    }
   ],
   "source": []
  }
 ],
 "metadata": {
  "kernelspec": {
   "display_name": "Python 2",
   "language": "python",
   "name": "python2"
  },
  "language_info": {
   "codemirror_mode": {
    "name": "ipython",
    "version": 2
   },
   "file_extension": ".py",
   "mimetype": "text/x-python",
   "name": "python",
   "nbconvert_exporter": "python",
   "pygments_lexer": "ipython2",
   "version": "2.7.15"
  }
 },
 "nbformat": 4,
 "nbformat_minor": 2
}
