{
 "cells": [
  {
   "cell_type": "code",
   "execution_count": null,
   "metadata": {},
   "outputs": [],
   "source": [
    "import slayer as sly\n",
    "import pandas as pd\n",
    "\n",
    "DATA_URL = 'https://raw.githubusercontent.com/uber-common/deck.gl-data/master/examples/icon/meteorites.json'\n",
    "meteorites = pd.read_json(DATA_URL)\n",
    "DATA_URL = 'https://raw.githubusercontent.com/ajduberstein/sf_growth/master/public/data/business.csv'\n",
    "businesses = pd.read_csv(DATA_URL)\n"
   ]
  },
  {
   "cell_type": "code",
   "execution_count": null,
   "metadata": {},
   "outputs": [],
   "source": [
    "meteorites.head()"
   ]
  },
  {
   "cell_type": "code",
   "execution_count": null,
   "metadata": {},
   "outputs": [],
   "source": [
    "s = sly.Slayer(sly.Viewport(0, 0, zoom=1), blend=True) + sly.Scatterplot(meteorites, position='coordinates', radius=10000)"
   ]
  },
  {
   "cell_type": "code",
   "execution_count": null,
   "metadata": {
    "scrolled": true
   },
   "outputs": [],
   "source": [
    "s.to_html(filename='meteorite_scatter.html', interactive=True)"
   ]
  },
  {
   "cell_type": "code",
   "execution_count": null,
   "metadata": {
    "scrolled": true
   },
   "outputs": [],
   "source": [
    "businesses.head()"
   ]
  },
  {
   "cell_type": "code",
   "execution_count": null,
   "metadata": {},
   "outputs": [],
   "source": [
    "s = sly.Slayer(sly.Viewport(longitude=-122.43, latitude=37.76, zoom=11), blend=True) +\\\n",
    "    sly.Scatterplot(businesses, position=['lng', 'lat'], radius=50, time_field='start_date')\n",
    "s.to_html(filename='business_scatter.html', interactive=True)"
   ]
  },
  {
   "cell_type": "code",
   "execution_count": null,
   "metadata": {},
   "outputs": [],
   "source": [
    "s = sly.Slayer(sly.Viewport(longitude=-122.43, latitude=37.76, zoom=11), blend=True) +\\\n",
    "    sly.TextLayer(businesses.head(30), text='business_name')\n",
    "s.to_html(filename='business_scatter.html', interactive=True)"
   ]
  },
  {
   "cell_type": "code",
   "execution_count": null,
   "metadata": {},
   "outputs": [],
   "source": [
    "s = sly.Slayer(sly.Viewport(longitude=-122.43, latitude=37.76, zoom=11), blend=True) +\\\n",
    "    sly.HexagonLayer(businesses.head(1000), color='RdYl')\n",
    "s.to_html(filename='business_scatter.html', interactive=True)"
   ]
  },
  {
   "cell_type": "code",
   "execution_count": null,
   "metadata": {},
   "outputs": [],
   "source": [
    "s = sly.Slayer(sly.Viewport(longitude=0, latitude=0, zoom=5))\n",
    "scatter = sly.Scatterplot(\n",
    "    meteorites,\n",
    "    position='coordinates',\n",
    "    radius=5000,\n",
    "    color=sly.ColorScale(\n",
    "        'PuRd',\n",
    "        variable_name='year',\n",
    "        display_formatter='%d'\n",
    "    )\n",
    ")\n",
    "text_labels = sly.TextLayer(\n",
    "    meteorites,\n",
    "    color=[255, 255, 255],\n",
    "    position='coordinates',\n",
    "    text='city'\n",
    ")\n",
    "\n",
    "# Stack the layers\n",
    "s = s + scatter + text_labels\n",
    "s.to_html('labeled_scatter.html', interactive=True)"
   ]
  }
 ],
 "metadata": {
  "kernelspec": {
   "display_name": "Python 2",
   "language": "python",
   "name": "python2"
  },
  "language_info": {
   "codemirror_mode": {
    "name": "ipython",
    "version": 2
   },
   "file_extension": ".py",
   "mimetype": "text/x-python",
   "name": "python",
   "nbconvert_exporter": "python",
   "pygments_lexer": "ipython2",
   "version": "2.7.15"
  }
 },
 "nbformat": 4,
 "nbformat_minor": 2
}
